{
 "metadata": {
  "name": ""
 },
 "nbformat": 3,
 "nbformat_minor": 0,
 "worksheets": [
  {
   "cells": [
    {
     "cell_type": "code",
     "collapsed": false,
     "input": [
      "%load_ext autoreload\n",
      "%autoreload 2\n",
      "import imp\n",
      "import smc\n",
      "lgss = imp.load_source('lgss', '../examples/lgss_bootstrap.py')"
     ],
     "language": "python",
     "metadata": {},
     "outputs": [
      {
       "output_type": "stream",
       "stream": "stdout",
       "text": [
        "The autoreload extension is already loaded. To reload it, use:\n",
        "  %reload_ext autoreload\n"
       ]
      }
     ],
     "prompt_number": 22
    },
    {
     "cell_type": "code",
     "collapsed": false,
     "input": [
      "# Generate data\n",
      "T = 100\n",
      "a = 0.9\n",
      "varV = 1.0\n",
      "varE = 1.0\n",
      "\n",
      "x = zeros(T)\n",
      "y = zeros(T)\n",
      "\n",
      "for t in range(T):\n",
      "    x[t] = a*x[t-1] + sqrt(varV)*random.normal()\n",
      "    y[t] = x[t] + sqrt(varE)*random.normal()\n",
      "    \n",
      "# Kalman filter\n",
      "xfilt = zeros(T)\n",
      "xpred = zeros(T)\n",
      "Pfilt = ones(T)\n",
      "Ppred = varV*ones(T)\n",
      "\n",
      "for t in range(T):\n",
      "    #print t\n",
      "    xpred[t] = a*xfilt[t-1]\n",
      "    Ppred[t] = Pfilt[t-1]*a*a + varV\n",
      "    \n",
      "    S = Ppred[t] + varE\n",
      "    K = Ppred[t]/S\n",
      "    \n",
      "    xfilt[t] = xpred[t] + K*(y[t]-xpred[t])\n",
      "    Pfilt[t] = Ppred[t] - K*Ppred[t]"
     ],
     "language": "python",
     "metadata": {},
     "outputs": [],
     "prompt_number": 2
    },
    {
     "cell_type": "code",
     "collapsed": false,
     "input": [
      "mB = lgss.lgss(a, varV, varE, y)"
     ],
     "language": "python",
     "metadata": {},
     "outputs": [],
     "prompt_number": 3
    },
    {
     "cell_type": "code",
     "collapsed": false,
     "input": [
      "bsPF = smc.smc(mB)"
     ],
     "language": "python",
     "metadata": {},
     "outputs": [],
     "prompt_number": 4
    },
    {
     "cell_type": "code",
     "collapsed": false,
     "input": [
      "Np = 50\n",
      "bsPF.runForward(T,N=Np)"
     ],
     "language": "python",
     "metadata": {},
     "outputs": [],
     "prompt_number": 19
    },
    {
     "cell_type": "code",
     "collapsed": false,
     "input": [
      "xmean = zeros(T)\n",
      "w = zeros(T)\n",
      "for t in range(T):\n",
      "    maxLogW = max(bsPF.logW[t,:])\n",
      "    w = exp(bsPF.logW[t,:]-maxLogW)\n",
      "    w /= sum(w)\n",
      "    xmean[t] = sum(w*bsPF.X[t,:,0])"
     ],
     "language": "python",
     "metadata": {},
     "outputs": [],
     "prompt_number": 20
    },
    {
     "cell_type": "code",
     "collapsed": false,
     "input": [
      "plot(xfilt)\n",
      "plot(xmean)"
     ],
     "language": "python",
     "metadata": {},
     "outputs": [
      {
       "metadata": {},
       "output_type": "pyout",
       "prompt_number": 21,
       "text": [
        "[<matplotlib.lines.Line2D at 0x7fe30935c890>]"
       ]
      },
      {
       "metadata": {},
       "output_type": "display_data",
       "png": "[encoded data removed]",
       "text": [
        "<matplotlib.figure.Figure at 0x7fe30935c950>"
       ]
      }
     ],
     "prompt_number": 21
    },
    {
     "cell_type": "code",
     "collapsed": false,
     "input": [],
     "language": "python",
     "metadata": {},
     "outputs": []
    }
   ],
   "metadata": {}
  }
 ]
}